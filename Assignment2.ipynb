{
 "cells": [
  {
   "cell_type": "markdown",
   "id": "efca0637",
   "metadata": {},
   "source": [
    "Q:1) Create the below pattern using nested for loop in Python. \n",
    "* \n",
    "* * \n",
    "* * * \n",
    "* * * * \n",
    "* * * * * \n",
    "* * * * \n",
    "* * * \n",
    "* * \n",
    "* \n"
   ]
  },
  {
   "cell_type": "code",
   "execution_count": 1,
   "id": "a30e652d",
   "metadata": {},
   "outputs": [
    {
     "name": "stdout",
     "output_type": "stream",
     "text": [
      "Enter number of rows:5\n",
      "*\n",
      "**\n",
      "***\n",
      "****\n",
      "*****\n",
      "****\n",
      "***\n",
      "**\n",
      "*\n",
      "\n"
     ]
    }
   ],
   "source": [
    "rows = input(\"Enter number of rows:\")\n",
    "rows=int(rows)\n",
    "\n",
    "for i in range(rows):\n",
    "  for j in range(i+1):\n",
    "    print(\"*\",end=\"\")\n",
    "  print()\n",
    "for m in range(rows):\n",
    "  for n in range(rows-m-1):\n",
    "    print(\"*\",end=\"\")\n",
    "  print()"
   ]
  },
  {
   "cell_type": "code",
   "execution_count": null,
   "id": "b4953b0f",
   "metadata": {},
   "outputs": [],
   "source": []
  },
  {
   "cell_type": "markdown",
   "id": "be4269f9",
   "metadata": {},
   "source": [
    "Q:2) Write a Python program to reverse a word after accepting the input from the user. "
   ]
  },
  {
   "cell_type": "markdown",
   "id": "90ea8776",
   "metadata": {},
   "source": []
  },
  {
   "cell_type": "code",
   "execution_count": 2,
   "id": "bf26b775",
   "metadata": {},
   "outputs": [
    {
     "name": "stdout",
     "output_type": "stream",
     "text": [
      "Enter the word:ineuron\n",
      "Original word is: ineuron\n",
      "Reversed word is: norueni\n"
     ]
    }
   ],
   "source": [
    "word = input(\"Enter the word:\")\n",
    "print(\"Original word is:\",word)\n",
    "reverse_word=word[::-1]\n",
    "print(\"Reversed word is:\",reverse_word)"
   ]
  },
  {
   "cell_type": "code",
   "execution_count": null,
   "id": "83c98eaf",
   "metadata": {},
   "outputs": [],
   "source": []
  },
  {
   "cell_type": "code",
   "execution_count": null,
   "id": "fba404d1",
   "metadata": {},
   "outputs": [],
   "source": []
  },
  {
   "cell_type": "code",
   "execution_count": null,
   "id": "32c19473",
   "metadata": {},
   "outputs": [],
   "source": []
  }
 ],
 "metadata": {
  "kernelspec": {
   "display_name": "Python 3",
   "language": "python",
   "name": "python3"
  },
  "language_info": {
   "codemirror_mode": {
    "name": "ipython",
    "version": 3
   },
   "file_extension": ".py",
   "mimetype": "text/x-python",
   "name": "python",
   "nbconvert_exporter": "python",
   "pygments_lexer": "ipython3",
   "version": "3.8.8"
  }
 },
 "nbformat": 4,
 "nbformat_minor": 5
}
